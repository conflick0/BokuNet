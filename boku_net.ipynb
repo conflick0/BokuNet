{
 "cells": [
  {
   "cell_type": "code",
   "execution_count": 1,
   "metadata": {},
   "outputs": [],
   "source": [
    "import os\n",
    "import numpy as np\n",
    "from PIL import Image\n",
    "import matplotlib.pyplot as plt\n",
    "import tensorflow as tf\n",
    "from tensorflow import keras\n",
    "from tensorflow.keras.models import Sequential\n",
    "from tensorflow.keras.layers import *\n",
    "from tensorflow.keras import Model\n",
    "from tensorflow.keras.preprocessing import image_dataset_from_directory  # pip install tf-nightly\n",
    "from tensorflow.keras.callbacks import ModelCheckpoint"
   ]
  },
  {
   "cell_type": "code",
   "execution_count": 2,
   "metadata": {},
   "outputs": [
    {
     "name": "stdout",
     "output_type": "stream",
     "text": [
      "Num GPUs Available:  0\n"
     ]
    }
   ],
   "source": [
    "tf.debugging.set_log_device_placement(False)  # don't show device log\n",
    "print(\"Num GPUs Available: \",\n",
    "      len(tf.config.experimental.list_physical_devices('GPU')))"
   ]
  },
  {
   "cell_type": "code",
   "execution_count": 3,
   "metadata": {},
   "outputs": [],
   "source": [
    "DATASET_DIR = \"./augment_dataset/sdd\"\n",
    "\n",
    "TRAIN_DATASET_DIR = DATASET_DIR + '/train'\n",
    "\n",
    "TEST_DATASET_DIR = DATASET_DIR + '/test'\n",
    "\n",
    "IMG_SIZE = (32, 32)\n",
    "\n",
    "BATCH_SIZE = 128"
   ]
  },
  {
   "cell_type": "code",
   "execution_count": 4,
   "metadata": {},
   "outputs": [
    {
     "name": "stdout",
     "output_type": "stream",
     "text": [
      "Found 32458 files belonging to 120 classes.\n",
      "Found 8222 files belonging to 120 classes.\n"
     ]
    }
   ],
   "source": [
    "# build train dataset\n",
    "train_ds = image_dataset_from_directory(directory=TRAIN_DATASET_DIR,\n",
    "                                        labels='inferred',\n",
    "                                        label_mode='categorical',\n",
    "                                        shuffle=True,\n",
    "                                        batch_size=BATCH_SIZE,\n",
    "                                        image_size=IMG_SIZE)\n",
    "\n",
    "#build test dataset\n",
    "test_ds = image_dataset_from_directory(directory=TEST_DATASET_DIR,\n",
    "                                       labels='inferred',\n",
    "                                       label_mode='categorical',\n",
    "                                       shuffle=False,\n",
    "                                       batch_size=BATCH_SIZE,\n",
    "                                       image_size=IMG_SIZE)"
   ]
  },
  {
   "cell_type": "code",
   "execution_count": 5,
   "metadata": {},
   "outputs": [
    {
     "name": "stdout",
     "output_type": "stream",
     "text": [
      "train_imgs.shape:  (128, 32, 32, 3)\n",
      "train_labels.shape:  (128, 120)\n",
      "['n02100236-German_short-haired_pointer', 'n02093256-Staffordshire_bullterrier', 'n02090721-Irish_wolfhound', 'n02099429-curly-coated_retriever', 'n02093991-Irish_terrier', 'n02110806-basenji', 'n02095570-Lakeland_terrier', 'n02094258-Norwich_terrier', 'n02093647-Bedlington_terrier', 'n02112706-Brabancon_griffon', 'n02110063-malamute', 'n02112706-Brabancon_griffon', 'n02111129-Leonberg', 'n02111889-Samoyed', 'n02106166-Border_collie', 'n02112706-Brabancon_griffon', 'n02102040-English_springer', 'n02112137-chow', 'n02112018-Pomeranian', 'n02096294-Australian_terrier', 'n02106030-collie', 'n02093754-Border_terrier', 'n02093754-Border_terrier', 'n02086646-Blenheim_spaniel', 'n02105251-briard', 'n02105641-Old_English_sheepdog', 'n02107683-Bernese_mountain_dog', 'n02097047-miniature_schnauzer', 'n02108000-EntleBucher', 'n02099429-curly-coated_retriever', 'n02090721-Irish_wolfhound', 'n02092002-Scottish_deerhound', 'n02091635-otterhound', 'n02105855-Shetland_sheepdog', 'n02094433-Yorkshire_terrier', 'n02097474-Tibetan_terrier', 'n02107312-miniature_pinscher', 'n02100735-English_setter', 'n02087394-Rhodesian_ridgeback', 'n02113624-toy_poodle', 'n02107908-Appenzeller', 'n02092002-Scottish_deerhound', 'n02098105-soft-coated_wheaten_terrier', 'n02110806-basenji', 'n02105641-Old_English_sheepdog', 'n02097474-Tibetan_terrier', 'n02101006-Gordon_setter', 'n02116738-African_hunting_dog', 'n02116738-African_hunting_dog', 'n02088094-Afghan_hound', 'n02095889-Sealyham_terrier', 'n02097658-silky_terrier', 'n02095889-Sealyham_terrier', 'n02091244-Ibizan_hound', 'n02109047-Great_Dane', 'n02092002-Scottish_deerhound', 'n02113023-Pembroke', 'n02096585-Boston_bull', 'n02089867-Walker_hound', 'n02102040-English_springer', 'n02088238-basset', 'n02100877-Irish_setter', 'n02112018-Pomeranian', 'n02106166-Border_collie', 'n02097474-Tibetan_terrier', 'n02109961-Eskimo_dog', 'n02109047-Great_Dane', 'n02112350-keeshond', 'n02097047-miniature_schnauzer', 'n02112137-chow', 'n02115913-dhole', 'n02110185-Siberian_husky', 'n02111889-Samoyed', 'n02085936-Maltese_dog', 'n02088466-bloodhound', 'n02102480-Sussex_spaniel', 'n02106382-Bouvier_des_Flandres', 'n02113186-Cardigan', 'n02102177-Welsh_springer_spaniel', 'n02105251-briard', 'n02096051-Airedale', 'n02096437-Dandie_Dinmont', 'n02115641-dingo', 'n02088632-bluetick', 'n02097474-Tibetan_terrier', 'n02090622-borzoi', 'n02109047-Great_Dane', 'n02090379-redbone', 'n02110806-basenji', 'n02096437-Dandie_Dinmont', 'n02108915-French_bulldog', 'n02102177-Welsh_springer_spaniel', 'n02101006-Gordon_setter', 'n02100583-vizsla', 'n02090379-redbone', 'n02110958-pug', 'n02099712-Labrador_retriever', 'n02111277-Newfoundland', 'n02107683-Bernese_mountain_dog', 'n02107908-Appenzeller', 'n02089078-black-and-tan_coonhound', 'n02088364-beagle', 'n02090721-Irish_wolfhound', 'n02092002-Scottish_deerhound', 'n02102040-English_springer', 'n02090721-Irish_wolfhound', 'n02090379-redbone', 'n02098413-Lhasa', 'n02104029-kuvasz', 'n02091635-otterhound', 'n02098413-Lhasa', 'n02093428-American_Staffordshire_terrier', 'n02102973-Irish_water_spaniel', 'n02093754-Border_terrier', 'n02095570-Lakeland_terrier', 'n02100583-vizsla', 'n02099429-curly-coated_retriever', 'n02101556-clumber', 'n02089973-English_foxhound', 'n02102973-Irish_water_spaniel', 'n02093859-Kerry_blue_terrier', 'n02091032-Italian_greyhound', 'n02107574-Greater_Swiss_Mountain_dog', 'n02105251-briard', 'n02095889-Sealyham_terrier', 'n02095889-Sealyham_terrier', 'n02088094-Afghan_hound', 'n02087046-toy_terrier']\n"
     ]
    },
    {
     "data": {
      "image/png": "[encoded data removed]",
      "text/plain": [
       "<Figure size 1152x1152 with 128 Axes>"
      ]
     },
     "metadata": {
      "needs_background": "light"
     },
     "output_type": "display_data"
    }
   ],
   "source": [
    "# show train batch\n",
    "train_imgs, train_labels = next(iter(train_ds))\n",
    "\n",
    "print(\"train_imgs.shape: \", train_imgs.shape)\n",
    "print(\"train_labels.shape: \", train_labels.shape)\n",
    "\n",
    "plt.figure(num=BATCH_SIZE, figsize=(16, 16))\n",
    "for i, img in enumerate(train_imgs):\n",
    "    plt.subplot(1, BATCH_SIZE, i + 1)\n",
    "    plt.imshow(tf.make_ndarray(tf.make_tensor_proto(img)).astype('uint8'))\n",
    "\n",
    "labels = [\n",
    "    train_ds.class_names[np.where(label == 1)[0][0]] for label in train_labels\n",
    "]\n",
    "print(labels)"
   ]
  },
  {
   "cell_type": "code",
   "execution_count": 6,
   "metadata": {},
   "outputs": [
    {
     "name": "stdout",
     "output_type": "stream",
     "text": [
      "\n",
      "traing dataset size: 254\n",
      "test dataset size: 65\n",
      "\n",
      "class names:\n",
      " ['n02085620-Chihuahua', 'n02085782-Japanese_spaniel', 'n02085936-Maltese_dog', 'n02086079-Pekinese', 'n02086240-Shih-Tzu', 'n02086646-Blenheim_spaniel', 'n02086910-papillon', 'n02087046-toy_terrier', 'n02087394-Rhodesian_ridgeback', 'n02088094-Afghan_hound', 'n02088238-basset', 'n02088364-beagle', 'n02088466-bloodhound', 'n02088632-bluetick', 'n02089078-black-and-tan_coonhound', 'n02089867-Walker_hound', 'n02089973-English_foxhound', 'n02090379-redbone', 'n02090622-borzoi', 'n02090721-Irish_wolfhound', 'n02091032-Italian_greyhound', 'n02091134-whippet', 'n02091244-Ibizan_hound', 'n02091467-Norwegian_elkhound', 'n02091635-otterhound', 'n02091831-Saluki', 'n02092002-Scottish_deerhound', 'n02092339-Weimaraner', 'n02093256-Staffordshire_bullterrier', 'n02093428-American_Staffordshire_terrier', 'n02093647-Bedlington_terrier', 'n02093754-Border_terrier', 'n02093859-Kerry_blue_terrier', 'n02093991-Irish_terrier', 'n02094114-Norfolk_terrier', 'n02094258-Norwich_terrier', 'n02094433-Yorkshire_terrier', 'n02095314-wire-haired_fox_terrier', 'n02095570-Lakeland_terrier', 'n02095889-Sealyham_terrier', 'n02096051-Airedale', 'n02096177-cairn', 'n02096294-Australian_terrier', 'n02096437-Dandie_Dinmont', 'n02096585-Boston_bull', 'n02097047-miniature_schnauzer', 'n02097130-giant_schnauzer', 'n02097209-standard_schnauzer', 'n02097298-Scotch_terrier', 'n02097474-Tibetan_terrier', 'n02097658-silky_terrier', 'n02098105-soft-coated_wheaten_terrier', 'n02098286-West_Highland_white_terrier', 'n02098413-Lhasa', 'n02099267-flat-coated_retriever', 'n02099429-curly-coated_retriever', 'n02099601-golden_retriever', 'n02099712-Labrador_retriever', 'n02099849-Chesapeake_Bay_retriever', 'n02100236-German_short-haired_pointer', 'n02100583-vizsla', 'n02100735-English_setter', 'n02100877-Irish_setter', 'n02101006-Gordon_setter', 'n02101388-Brittany_spaniel', 'n02101556-clumber', 'n02102040-English_springer', 'n02102177-Welsh_springer_spaniel', 'n02102318-cocker_spaniel', 'n02102480-Sussex_spaniel', 'n02102973-Irish_water_spaniel', 'n02104029-kuvasz', 'n02104365-schipperke', 'n02105056-groenendael', 'n02105162-malinois', 'n02105251-briard', 'n02105412-kelpie', 'n02105505-komondor', 'n02105641-Old_English_sheepdog', 'n02105855-Shetland_sheepdog', 'n02106030-collie', 'n02106166-Border_collie', 'n02106382-Bouvier_des_Flandres', 'n02106550-Rottweiler', 'n02106662-German_shepherd', 'n02107142-Doberman', 'n02107312-miniature_pinscher', 'n02107574-Greater_Swiss_Mountain_dog', 'n02107683-Bernese_mountain_dog', 'n02107908-Appenzeller', 'n02108000-EntleBucher', 'n02108089-boxer', 'n02108422-bull_mastiff', 'n02108551-Tibetan_mastiff', 'n02108915-French_bulldog', 'n02109047-Great_Dane', 'n02109525-Saint_Bernard', 'n02109961-Eskimo_dog', 'n02110063-malamute', 'n02110185-Siberian_husky', 'n02110627-affenpinscher', 'n02110806-basenji', 'n02110958-pug', 'n02111129-Leonberg', 'n02111277-Newfoundland', 'n02111500-Great_Pyrenees', 'n02111889-Samoyed', 'n02112018-Pomeranian', 'n02112137-chow', 'n02112350-keeshond', 'n02112706-Brabancon_griffon', 'n02113023-Pembroke', 'n02113186-Cardigan', 'n02113624-toy_poodle', 'n02113712-miniature_poodle', 'n02113799-standard_poodle', 'n02113978-Mexican_hairless', 'n02115641-dingo', 'n02115913-dhole', 'n02116738-African_hunting_dog']\n"
     ]
    }
   ],
   "source": [
    "# show dataset info\n",
    "print(\"\\ntraing dataset size:\", len(train_ds))\n",
    "print(\"test dataset size:\", len(test_ds))\n",
    "print(\"\\nclass names:\\n\", train_ds.class_names)"
   ]
  },
  {
   "cell_type": "code",
   "execution_count": 7,
   "metadata": {},
   "outputs": [],
   "source": [
    "class SE_Block(Model):\n",
    "    def __init__(self, filters):\n",
    "        super(SE_Block, self).__init__(name='')\n",
    "\n",
    "        r = 8\n",
    "\n",
    "        self.global_avg_pool = GlobalAveragePooling2D()\n",
    "\n",
    "        self.fc1 = Dense(filters / r, activation='relu')\n",
    "\n",
    "        self.fc2 = Dense(filters, activation='sigmoid')\n",
    "\n",
    "    def call(self, x):\n",
    "        c = x.shape[-1]\n",
    "        inp = x\n",
    "        x = self.global_avg_pool(x)\n",
    "        x = self.fc1(x)\n",
    "        x = self.fc2(x)\n",
    "        x = tf.reshape(x, [-1,1,1,c])\n",
    "        x *= inp\n",
    "\n",
    "        return x"
   ]
  },
  {
   "cell_type": "code",
   "execution_count": 8,
   "metadata": {},
   "outputs": [],
   "source": [
    "class ResBasicBlock(Model):\n",
    "    def __init__(self, filters, kernel_size, padding='same', strides=1):\n",
    "        super(ResBasicBlock, self).__init__(name='')\n",
    "\n",
    "        flt1, flt2, flt3 = filters\n",
    "\n",
    "        self.conv1 = Conv2D(flt1, 1, padding=padding, strides=strides)\n",
    "        #             kernel_regularizer=tf.keras.regularizers.l2(l=0.003))\n",
    "\n",
    "        self.dwcovn1 = SeparableConv2D(flt2, kernel_size, padding=padding)\n",
    "\n",
    "        self.conv2 = Conv2D(flt3, 1, padding=padding)\n",
    "        #             kernel_regularizer=tf.keras.regularizers.l2(l=0.003))\n",
    "\n",
    "        self.reshape_conv = Conv2D(flt3, 1, padding=padding, strides=strides)\n",
    "\n",
    "        self.bn1 = BatchNormalization()\n",
    "        self.bn2 = BatchNormalization()\n",
    "        self.bn3 = BatchNormalization()\n",
    "        self.bn4 = BatchNormalization()\n",
    "\n",
    "    def call(self, x):\n",
    "        inp = x\n",
    "\n",
    "        x = self.conv1(x)\n",
    "        x = self.bn1(x)\n",
    "        x = tf.nn.relu6(x)\n",
    "\n",
    "        x = self.dwcovn1(x)\n",
    "        x = self.bn2(x)\n",
    "        x = tf.nn.relu6(x)\n",
    "\n",
    "        x = self.conv2(x)\n",
    "        x = self.bn3(x)\n",
    "\n",
    "        inp = self.reshape_conv(inp)\n",
    "        inp = self.bn4(inp)\n",
    "        x += inp\n",
    "\n",
    "        x = tf.nn.relu(x)\n",
    "\n",
    "        return x"
   ]
  },
  {
   "cell_type": "code",
   "execution_count": 9,
   "metadata": {},
   "outputs": [],
   "source": [
    "class ResBlockA(Model):\n",
    "    def __init__(self):\n",
    "        super(ResBlockA, self).__init__(name='')\n",
    "\n",
    "        filters = (32, 32, 128)\n",
    "\n",
    "        self.res_blocks = Sequential([])\n",
    "\n",
    "        for _ in range(3):\n",
    "            self.res_blocks.add(ResBasicBlock(filters, kernel_size=3))\n",
    "\n",
    "    def call(self, x):\n",
    "        x = self.res_blocks(x)\n",
    "\n",
    "        return x"
   ]
  },
  {
   "cell_type": "code",
   "execution_count": 10,
   "metadata": {},
   "outputs": [],
   "source": [
    "class ResBlockB(Model):\n",
    "    def __init__(self):\n",
    "        super(ResBlockB, self).__init__(name='')\n",
    "\n",
    "        filters = (64, 64, 256)\n",
    "\n",
    "        self.res_blocks = Sequential(\n",
    "            [ResBasicBlock(filters, kernel_size=3, strides=2)])\n",
    "\n",
    "        for _ in range(3):\n",
    "            self.res_blocks.add(ResBasicBlock(filters, kernel_size=3))\n",
    "\n",
    "    def call(self, x):\n",
    "        x = self.res_blocks(x)\n",
    "\n",
    "        return x"
   ]
  },
  {
   "cell_type": "code",
   "execution_count": 11,
   "metadata": {},
   "outputs": [],
   "source": [
    "class ResBlockC(Model):\n",
    "    def __init__(self):\n",
    "        super(ResBlockC, self).__init__(name='')\n",
    "\n",
    "        filters = (128, 128, 512)\n",
    "\n",
    "        self.res_blocks = Sequential(\n",
    "            [ResBasicBlock(filters, kernel_size=3, strides=2)])\n",
    "\n",
    "        for _ in range(5):\n",
    "            self.res_blocks.add(ResBasicBlock(filters, kernel_size=3))\n",
    "\n",
    "    def call(self, x):\n",
    "        x = self.res_blocks(x)\n",
    "\n",
    "        return x"
   ]
  },
  {
   "cell_type": "code",
   "execution_count": 12,
   "metadata": {},
   "outputs": [],
   "source": [
    "class ResBlockD(Model):\n",
    "    def __init__(self):\n",
    "        super(ResBlockD, self).__init__(name='')\n",
    "\n",
    "        filters = (512, 512, 1024)\n",
    "\n",
    "        self.res_blocks = Sequential(\n",
    "            [ResBasicBlock(filters, kernel_size=3, strides=2)])\n",
    "\n",
    "        for _ in range(2):\n",
    "            self.res_blocks.add(ResBasicBlock(filters, kernel_size=3))\n",
    "\n",
    "    def call(self, x):\n",
    "        x = self.res_blocks(x)\n",
    "\n",
    "        return x"
   ]
  },
  {
   "cell_type": "code",
   "execution_count": 13,
   "metadata": {},
   "outputs": [],
   "source": [
    "class BokuNet(Model):\n",
    "    def __init__(self):\n",
    "        super(BokuNet, self).__init__(name='BokuNet')\n",
    "        self.conv1 = Conv2D(32, 7, strides=2)\n",
    "        self.max_pool = MaxPooling2D((3, 3), strides=2)\n",
    "\n",
    "        self.res_bloack_a = ResBlockA()\n",
    "        self.res_block_b = ResBlockB()\n",
    "#         self.res_block_c = ResBlockC()\n",
    "#         self.res_block_d = ResBlockD()\n",
    "\n",
    "        self.avg_pool = AveragePooling2D()\n",
    "        self.flatten = Flatten()\n",
    "\n",
    "        self.out_fc = Dense(120, activation='softmax')\n",
    "\n",
    "\n",
    "#         self.drop1 = Dropout(0.5)\n",
    "\n",
    "    def call(self, x):\n",
    "        x = x / 255  # normalization\n",
    "\n",
    "        x = self.conv1(x)\n",
    "#         print(x.shape)\n",
    "        x = self.max_pool(x)\n",
    "#         print(x.shape)\n",
    "\n",
    "        x = self.res_bloack_a(x)\n",
    "#         print('a', x.shape)\n",
    "\n",
    "        x = self.res_block_b(x)\n",
    "#         print('b', x.shape)\n",
    "\n",
    "#         x = self.res_block_c(x)\n",
    "#         print('c', x.shape)\n",
    "\n",
    "#         x = self.res_block_d(x)\n",
    "#         print('d', x.shape)\n",
    "\n",
    "        x = self.avg_pool(x)\n",
    "#         print(x.shape)\n",
    "\n",
    "        x = self.flatten(x)\n",
    "\n",
    "        x = self.out_fc(x)\n",
    "\n",
    "        return x"
   ]
  },
  {
   "cell_type": "code",
   "execution_count": 14,
   "metadata": {},
   "outputs": [
    {
     "name": "stdout",
     "output_type": "stream",
     "text": [
      "Model: \"BokuNet\"\n",
      "_________________________________________________________________\n",
      "Layer (type)                 Output Shape              Param #   \n",
      "=================================================================\n",
      "conv2d (Conv2D)              multiple                  4736      \n",
      "_________________________________________________________________\n",
      "max_pooling2d (MaxPooling2D) multiple                  0         \n",
      "_________________________________________________________________\n",
      "res_block_a (ResBlockA)      multiple                  67104     \n",
      "_________________________________________________________________\n",
      "res_block_b (ResBlockB)      multiple                  383744    \n",
      "_________________________________________________________________\n",
      "average_pooling2d (AveragePo multiple                  0         \n",
      "_________________________________________________________________\n",
      "flatten (Flatten)            multiple                  0         \n",
      "_________________________________________________________________\n",
      "dense (Dense)                multiple                  30840     \n",
      "=================================================================\n",
      "Total params: 486,424\n",
      "Trainable params: 479,384\n",
      "Non-trainable params: 7,040\n",
      "_________________________________________________________________\n",
      "None\n"
     ]
    }
   ],
   "source": [
    "model = BokuNet()\n",
    "# model = SE_Block(64)\n",
    "imgs_shape = (128, 32, 32, 3)\n",
    "model.build(imgs_shape)\n",
    "print(model.summary())"
   ]
  },
  {
   "cell_type": "code",
   "execution_count": 15,
   "metadata": {},
   "outputs": [
    {
     "name": "stdout",
     "output_type": "stream",
     "text": [
      "Epoch 1/15\n",
      "254/254 [==============================] - ETA: 0s - loss: 4.6298 - accuracy: 0.0269\n",
      "Epoch 00001: saving model to checkpoint\\cp.ckpt\n",
      "254/254 [==============================] - 85s 335ms/step - loss: 4.6298 - accuracy: 0.0269 - val_loss: 5.1538 - val_accuracy: 0.0084\n",
      "Epoch 2/15\n",
      "254/254 [==============================] - ETA: 0s - loss: 4.3026 - accuracy: 0.0550\n",
      "Epoch 00002: saving model to checkpoint\\cp.ckpt\n",
      "254/254 [==============================] - 85s 335ms/step - loss: 4.3026 - accuracy: 0.0550 - val_loss: 4.4866 - val_accuracy: 0.0396\n",
      "Epoch 3/15\n",
      "254/254 [==============================] - ETA: 0s - loss: 4.1255 - accuracy: 0.0772\n",
      "Epoch 00003: saving model to checkpoint\\cp.ckpt\n",
      "254/254 [==============================] - 86s 337ms/step - loss: 4.1255 - accuracy: 0.0772 - val_loss: 4.5256 - val_accuracy: 0.0483\n",
      "Epoch 4/15\n",
      "254/254 [==============================] - ETA: 0s - loss: 3.9710 - accuracy: 0.0954\n",
      "Epoch 00004: saving model to checkpoint\\cp.ckpt\n",
      "254/254 [==============================] - 85s 335ms/step - loss: 3.9710 - accuracy: 0.0954 - val_loss: 4.2668 - val_accuracy: 0.0659\n",
      "Epoch 5/15\n",
      "254/254 [==============================] - ETA: 0s - loss: 3.8220 - accuracy: 0.1167\n",
      "Epoch 00005: saving model to checkpoint\\cp.ckpt\n",
      "254/254 [==============================] - 85s 335ms/step - loss: 3.8220 - accuracy: 0.1167 - val_loss: 4.5007 - val_accuracy: 0.0598\n",
      "Epoch 6/15\n",
      "254/254 [==============================] - ETA: 0s - loss: 3.6753 - accuracy: 0.1394\n",
      "Epoch 00006: saving model to checkpoint\\cp.ckpt\n",
      "254/254 [==============================] - 86s 337ms/step - loss: 3.6753 - accuracy: 0.1394 - val_loss: 4.4197 - val_accuracy: 0.0645\n",
      "Epoch 7/15\n",
      "254/254 [==============================] - ETA: 0s - loss: 3.5175 - accuracy: 0.1675\n",
      "Epoch 00007: saving model to checkpoint\\cp.ckpt\n",
      "254/254 [==============================] - 85s 336ms/step - loss: 3.5175 - accuracy: 0.1675 - val_loss: 4.4325 - val_accuracy: 0.0772\n",
      "Epoch 8/15\n",
      "254/254 [==============================] - ETA: 0s - loss: 3.3564 - accuracy: 0.1951\n",
      "Epoch 00008: saving model to checkpoint\\cp.ckpt\n",
      "254/254 [==============================] - 85s 336ms/step - loss: 3.3564 - accuracy: 0.1951 - val_loss: 4.4095 - val_accuracy: 0.0777\n",
      "Epoch 9/15\n",
      "254/254 [==============================] - ETA: 0s - loss: 3.1870 - accuracy: 0.2248\n",
      "Epoch 00009: saving model to checkpoint\\cp.ckpt\n",
      "254/254 [==============================] - 85s 335ms/step - loss: 3.1870 - accuracy: 0.2248 - val_loss: 4.5898 - val_accuracy: 0.0719\n",
      "Epoch 10/15\n",
      "254/254 [==============================] - ETA: 0s - loss: 3.0142 - accuracy: 0.2517\n",
      "Epoch 00010: saving model to checkpoint\\cp.ckpt\n",
      "254/254 [==============================] - 86s 337ms/step - loss: 3.0142 - accuracy: 0.2517 - val_loss: 4.6387 - val_accuracy: 0.0722\n",
      "Epoch 11/15\n",
      "254/254 [==============================] - ETA: 0s - loss: 2.8342 - accuracy: 0.2925\n",
      "Epoch 00011: saving model to checkpoint\\cp.ckpt\n",
      "254/254 [==============================] - 85s 336ms/step - loss: 2.8342 - accuracy: 0.2925 - val_loss: 4.6970 - val_accuracy: 0.0708\n",
      "Epoch 12/15\n",
      "254/254 [==============================] - ETA: 0s - loss: 2.6402 - accuracy: 0.3300\n",
      "Epoch 00012: saving model to checkpoint\\cp.ckpt\n",
      "254/254 [==============================] - 85s 335ms/step - loss: 2.6402 - accuracy: 0.3300 - val_loss: 4.7951 - val_accuracy: 0.0761\n",
      "Epoch 13/15\n",
      "254/254 [==============================] - ETA: 0s - loss: 2.4469 - accuracy: 0.3727\n",
      "Epoch 00013: saving model to checkpoint\\cp.ckpt\n",
      "254/254 [==============================] - 85s 334ms/step - loss: 2.4469 - accuracy: 0.3727 - val_loss: 4.8922 - val_accuracy: 0.0738\n",
      "Epoch 14/15\n",
      "254/254 [==============================] - ETA: 0s - loss: 2.2463 - accuracy: 0.4159\n",
      "Epoch 00014: saving model to checkpoint\\cp.ckpt\n",
      "254/254 [==============================] - 85s 334ms/step - loss: 2.2463 - accuracy: 0.4159 - val_loss: 5.1281 - val_accuracy: 0.0732\n",
      "Epoch 15/15\n",
      "254/254 [==============================] - ETA: 0s - loss: 2.0626 - accuracy: 0.4578\n",
      "Epoch 00015: saving model to checkpoint\\cp.ckpt\n",
      "254/254 [==============================] - 86s 337ms/step - loss: 2.0626 - accuracy: 0.4578 - val_loss: 5.2309 - val_accuracy: 0.0665\n"
     ]
    }
   ],
   "source": [
    "EPOCHS = 15\n",
    "\n",
    "checkpoint_path = \"checkpoint/cp.ckpt\"\n",
    "\n",
    "if os.path.isfile(checkpoint_path):\n",
    "    model.load_weights(checkpoint_path)\n",
    "\n",
    "cp_callback = ModelCheckpoint(filepath=checkpoint_path,\n",
    "                              save_weights_only=True,\n",
    "                              verbose=1)\n",
    "\n",
    "optimizer = tf.keras.optimizers.Adam()\n",
    "\n",
    "model.compile(optimizer=optimizer,\n",
    "              loss='categorical_crossentropy',\n",
    "              metrics=['accuracy'])\n",
    "\n",
    "history = model.fit(train_ds,\n",
    "                    batch_size=BATCH_SIZE,\n",
    "                    steps_per_epoch=len(train_ds),\n",
    "                    validation_data=test_ds,\n",
    "                    validation_steps=len(test_ds),\n",
    "                    epochs=EPOCHS,\n",
    "                    callbacks=[cp_callback])"
   ]
  },
  {
   "cell_type": "code",
   "execution_count": 16,
   "metadata": {},
   "outputs": [
    {
     "data": {
      "image/png": "[encoded data removed]",
      "text/plain": [
       "<Figure size 576x576 with 2 Axes>"
      ]
     },
     "metadata": {
      "needs_background": "light"
     },
     "output_type": "display_data"
    }
   ],
   "source": [
    "acc = history.history['accuracy']\n",
    "val_acc = history.history['val_accuracy']\n",
    "\n",
    "loss = history.history['loss']\n",
    "val_loss = history.history['val_loss']\n",
    "\n",
    "epochs_range = range(EPOCHS)\n",
    "\n",
    "plt.figure(figsize=(8, 8))\n",
    "plt.subplot(1, 2, 1)\n",
    "plt.plot(epochs_range, acc, label='Training Accuracy')\n",
    "plt.plot(epochs_range, val_acc, label='Validation Accuracy')\n",
    "plt.legend(loc='lower right')\n",
    "plt.title('Training and Validation Accuracy')\n",
    "\n",
    "plt.subplot(1, 2, 2)\n",
    "plt.plot(epochs_range, loss, label='Training Loss')\n",
    "plt.plot(epochs_range, val_loss, label='Validation Loss')\n",
    "plt.legend(loc='upper right')\n",
    "plt.title('Training and Validation Loss')\n",
    "plt.show()"
   ]
  }
 ],
 "metadata": {
  "kernelspec": {
   "display_name": "Python 3",
   "language": "python",
   "name": "python3"
  },
  "language_info": {
   "codemirror_mode": {
    "name": "ipython",
    "version": 3
   },
   "file_extension": ".py",
   "mimetype": "text/x-python",
   "name": "python",
   "nbconvert_exporter": "python",
   "pygments_lexer": "ipython3",
   "version": "3.6.7"
  },
  "toc": {
   "base_numbering": 1,
   "nav_menu": {},
   "number_sections": true,
   "sideBar": true,
   "skip_h1_title": false,
   "title_cell": "Table of Contents",
   "title_sidebar": "Contents",
   "toc_cell": false,
   "toc_position": {},
   "toc_section_display": true,
   "toc_window_display": false
  }
 },
 "nbformat": 4,
 "nbformat_minor": 1
}
