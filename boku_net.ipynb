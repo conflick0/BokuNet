{
 "cells": [
  {
   "cell_type": "code",
   "execution_count": 70,
   "metadata": {},
   "outputs": [],
   "source": [
    "import os\n",
    "import numpy as np\n",
    "import matplotlib.pyplot as plt\n",
    "import tensorflow as tf\n",
    "from tensorflow import keras\n",
    "from tensorflow.keras.layers import *\n",
    "from tensorflow.keras import Model\n",
    "from tensorflow.keras.preprocessing import image_dataset_from_directory  # pip install tf-nightly\n",
    "from tensorflow.keras.callbacks import ModelCheckpoint"
   ]
  },
  {
   "cell_type": "code",
   "execution_count": 71,
   "metadata": {},
   "outputs": [
    {
     "name": "stdout",
     "output_type": "stream",
     "text": [
      "Num GPUs Available:  0\n"
     ]
    }
   ],
   "source": [
    "tf.debugging.set_log_device_placement(False)  # don't show device log\n",
    "print(\"Num GPUs Available: \",\n",
    "      len(tf.config.experimental.list_physical_devices('GPU')))"
   ]
  },
  {
   "cell_type": "code",
   "execution_count": 72,
   "metadata": {},
   "outputs": [],
   "source": [
    "DATASET_DIR = \"./augment_dataset/sdd\"\n",
    "\n",
    "TRAIN_DATASET_DIR = DATASET_DIR + '/train'\n",
    "\n",
    "TEST_DATASET_DIR = DATASET_DIR + '/test'\n",
    "\n",
    "IMG_SIZE = (32, 32)\n",
    "\n",
    "BATCH_SIZE = 64"
   ]
  },
  {
   "cell_type": "code",
   "execution_count": 73,
   "metadata": {},
   "outputs": [
    {
     "name": "stdout",
     "output_type": "stream",
     "text": [
      "Found 32458 files belonging to 120 classes.\n",
      "Found 8222 files belonging to 120 classes.\n"
     ]
    }
   ],
   "source": [
    "# build train dataset\n",
    "train_ds = image_dataset_from_directory(directory=TRAIN_DATASET_DIR,\n",
    "                                        labels='inferred',\n",
    "                                        label_mode='categorical',\n",
    "                                        shuffle=True,\n",
    "                                        batch_size=BATCH_SIZE,\n",
    "                                        image_size=IMG_SIZE)\n",
    "\n",
    "#build test dataset\n",
    "test_ds = image_dataset_from_directory(directory=TEST_DATASET_DIR,\n",
    "                                       labels='inferred',\n",
    "                                       label_mode='categorical',\n",
    "                                       shuffle=False,\n",
    "                                       batch_size=BATCH_SIZE,\n",
    "                                       image_size=IMG_SIZE)"
   ]
  },
  {
   "cell_type": "code",
   "execution_count": 74,
   "metadata": {},
   "outputs": [
    {
     "name": "stdout",
     "output_type": "stream",
     "text": [
      "\n",
      "traing dataset size: 254\n",
      "test dataset size: 65\n",
      "\n",
      "class names:\n",
      " ['n02085620-Chihuahua', 'n02085782-Japanese_spaniel', 'n02085936-Maltese_dog', 'n02086079-Pekinese', 'n02086240-Shih-Tzu', 'n02086646-Blenheim_spaniel', 'n02086910-papillon', 'n02087046-toy_terrier', 'n02087394-Rhodesian_ridgeback', 'n02088094-Afghan_hound', 'n02088238-basset', 'n02088364-beagle', 'n02088466-bloodhound', 'n02088632-bluetick', 'n02089078-black-and-tan_coonhound', 'n02089867-Walker_hound', 'n02089973-English_foxhound', 'n02090379-redbone', 'n02090622-borzoi', 'n02090721-Irish_wolfhound', 'n02091032-Italian_greyhound', 'n02091134-whippet', 'n02091244-Ibizan_hound', 'n02091467-Norwegian_elkhound', 'n02091635-otterhound', 'n02091831-Saluki', 'n02092002-Scottish_deerhound', 'n02092339-Weimaraner', 'n02093256-Staffordshire_bullterrier', 'n02093428-American_Staffordshire_terrier', 'n02093647-Bedlington_terrier', 'n02093754-Border_terrier', 'n02093859-Kerry_blue_terrier', 'n02093991-Irish_terrier', 'n02094114-Norfolk_terrier', 'n02094258-Norwich_terrier', 'n02094433-Yorkshire_terrier', 'n02095314-wire-haired_fox_terrier', 'n02095570-Lakeland_terrier', 'n02095889-Sealyham_terrier', 'n02096051-Airedale', 'n02096177-cairn', 'n02096294-Australian_terrier', 'n02096437-Dandie_Dinmont', 'n02096585-Boston_bull', 'n02097047-miniature_schnauzer', 'n02097130-giant_schnauzer', 'n02097209-standard_schnauzer', 'n02097298-Scotch_terrier', 'n02097474-Tibetan_terrier', 'n02097658-silky_terrier', 'n02098105-soft-coated_wheaten_terrier', 'n02098286-West_Highland_white_terrier', 'n02098413-Lhasa', 'n02099267-flat-coated_retriever', 'n02099429-curly-coated_retriever', 'n02099601-golden_retriever', 'n02099712-Labrador_retriever', 'n02099849-Chesapeake_Bay_retriever', 'n02100236-German_short-haired_pointer', 'n02100583-vizsla', 'n02100735-English_setter', 'n02100877-Irish_setter', 'n02101006-Gordon_setter', 'n02101388-Brittany_spaniel', 'n02101556-clumber', 'n02102040-English_springer', 'n02102177-Welsh_springer_spaniel', 'n02102318-cocker_spaniel', 'n02102480-Sussex_spaniel', 'n02102973-Irish_water_spaniel', 'n02104029-kuvasz', 'n02104365-schipperke', 'n02105056-groenendael', 'n02105162-malinois', 'n02105251-briard', 'n02105412-kelpie', 'n02105505-komondor', 'n02105641-Old_English_sheepdog', 'n02105855-Shetland_sheepdog', 'n02106030-collie', 'n02106166-Border_collie', 'n02106382-Bouvier_des_Flandres', 'n02106550-Rottweiler', 'n02106662-German_shepherd', 'n02107142-Doberman', 'n02107312-miniature_pinscher', 'n02107574-Greater_Swiss_Mountain_dog', 'n02107683-Bernese_mountain_dog', 'n02107908-Appenzeller', 'n02108000-EntleBucher', 'n02108089-boxer', 'n02108422-bull_mastiff', 'n02108551-Tibetan_mastiff', 'n02108915-French_bulldog', 'n02109047-Great_Dane', 'n02109525-Saint_Bernard', 'n02109961-Eskimo_dog', 'n02110063-malamute', 'n02110185-Siberian_husky', 'n02110627-affenpinscher', 'n02110806-basenji', 'n02110958-pug', 'n02111129-Leonberg', 'n02111277-Newfoundland', 'n02111500-Great_Pyrenees', 'n02111889-Samoyed', 'n02112018-Pomeranian', 'n02112137-chow', 'n02112350-keeshond', 'n02112706-Brabancon_griffon', 'n02113023-Pembroke', 'n02113186-Cardigan', 'n02113624-toy_poodle', 'n02113712-miniature_poodle', 'n02113799-standard_poodle', 'n02113978-Mexican_hairless', 'n02115641-dingo', 'n02115913-dhole', 'n02116738-African_hunting_dog']\n"
     ]
    }
   ],
   "source": [
    "# show dataset info\n",
    "print(\"\\ntraing dataset size:\", len(train_ds))\n",
    "print(\"test dataset size:\", len(test_ds))\n",
    "print(\"\\nclass names:\\n\", train_ds.class_names)"
   ]
  },
  {
   "cell_type": "code",
   "execution_count": 75,
   "metadata": {},
   "outputs": [
    {
     "name": "stdout",
     "output_type": "stream",
     "text": [
      "train_imgs.shape:  (128, 32, 32, 3)\n",
      "train_labels.shape:  (128, 120)\n",
      "['n02098105-soft-coated_wheaten_terrier', 'n02095889-Sealyham_terrier', 'n02086240-Shih-Tzu', 'n02111889-Samoyed', 'n02097130-giant_schnauzer', 'n02112018-Pomeranian', 'n02098286-West_Highland_white_terrier', 'n02107574-Greater_Swiss_Mountain_dog', 'n02092002-Scottish_deerhound', 'n02091244-Ibizan_hound', 'n02106662-German_shepherd', 'n02112706-Brabancon_griffon', 'n02098105-soft-coated_wheaten_terrier', 'n02116738-African_hunting_dog', 'n02097658-silky_terrier', 'n02097658-silky_terrier', 'n02107683-Bernese_mountain_dog', 'n02105056-groenendael', 'n02098413-Lhasa', 'n02098286-West_Highland_white_terrier', 'n02116738-African_hunting_dog', 'n02113624-toy_poodle', 'n02086646-Blenheim_spaniel', 'n02113624-toy_poodle', 'n02087046-toy_terrier', 'n02094258-Norwich_terrier', 'n02094114-Norfolk_terrier', 'n02095570-Lakeland_terrier', 'n02085936-Maltese_dog', 'n02085936-Maltese_dog', 'n02109961-Eskimo_dog', 'n02113712-miniature_poodle', 'n02088466-bloodhound', 'n02105505-komondor', 'n02108551-Tibetan_mastiff', 'n02095889-Sealyham_terrier', 'n02106662-German_shepherd', 'n02086646-Blenheim_spaniel', 'n02099849-Chesapeake_Bay_retriever', 'n02116738-African_hunting_dog', 'n02091467-Norwegian_elkhound', 'n02089078-black-and-tan_coonhound', 'n02107908-Appenzeller', 'n02112137-chow', 'n02085620-Chihuahua', 'n02108551-Tibetan_mastiff', 'n02107142-Doberman', 'n02109047-Great_Dane', 'n02098286-West_Highland_white_terrier', 'n02108915-French_bulldog', 'n02110958-pug', 'n02107142-Doberman', 'n02105412-kelpie', 'n02085782-Japanese_spaniel', 'n02091032-Italian_greyhound', 'n02110806-basenji', 'n02094114-Norfolk_terrier', 'n02108915-French_bulldog', 'n02097658-silky_terrier', 'n02093256-Staffordshire_bullterrier', 'n02106662-German_shepherd', 'n02107683-Bernese_mountain_dog', 'n02113978-Mexican_hairless', 'n02090721-Irish_wolfhound', 'n02093256-Staffordshire_bullterrier', 'n02102973-Irish_water_spaniel', 'n02101006-Gordon_setter', 'n02086646-Blenheim_spaniel', 'n02107142-Doberman', 'n02107312-miniature_pinscher', 'n02110958-pug', 'n02106166-Border_collie', 'n02108915-French_bulldog', 'n02091244-Ibizan_hound', 'n02095889-Sealyham_terrier', 'n02100877-Irish_setter', 'n02098286-West_Highland_white_terrier', 'n02113624-toy_poodle', 'n02092339-Weimaraner', 'n02112350-keeshond', 'n02107908-Appenzeller', 'n02108551-Tibetan_mastiff', 'n02090379-redbone', 'n02093859-Kerry_blue_terrier', 'n02107312-miniature_pinscher', 'n02115913-dhole', 'n02107683-Bernese_mountain_dog', 'n02096051-Airedale', 'n02097047-miniature_schnauzer', 'n02110806-basenji', 'n02104029-kuvasz', 'n02091134-whippet', 'n02096437-Dandie_Dinmont', 'n02105162-malinois', 'n02108422-bull_mastiff', 'n02113712-miniature_poodle', 'n02096177-cairn', 'n02108422-bull_mastiff', 'n02107683-Bernese_mountain_dog', 'n02110806-basenji', 'n02105412-kelpie', 'n02090622-borzoi', 'n02099601-golden_retriever', 'n02090721-Irish_wolfhound', 'n02093428-American_Staffordshire_terrier', 'n02093647-Bedlington_terrier', 'n02092002-Scottish_deerhound', 'n02104365-schipperke', 'n02105162-malinois', 'n02105251-briard', 'n02098105-soft-coated_wheaten_terrier', 'n02110185-Siberian_husky', 'n02102973-Irish_water_spaniel', 'n02106030-collie', 'n02113799-standard_poodle', 'n02090379-redbone', 'n02109047-Great_Dane', 'n02113799-standard_poodle', 'n02088238-basset', 'n02107312-miniature_pinscher', 'n02105251-briard', 'n02092339-Weimaraner', 'n02097474-Tibetan_terrier', 'n02104029-kuvasz', 'n02112350-keeshond', 'n02098286-West_Highland_white_terrier', 'n02105641-Old_English_sheepdog', 'n02085936-Maltese_dog']\n"
     ]
    },
    {
     "data": {
      "image/png": "[encoded data removed]",
      "text/plain": [
       "<Figure size 1152x1152 with 128 Axes>"
      ]
     },
     "metadata": {
      "needs_background": "light"
     },
     "output_type": "display_data"
    }
   ],
   "source": [
    "# show train batch\n",
    "train_imgs, train_labels = next(iter(train_ds))\n",
    "\n",
    "print(\"train_imgs.shape: \", train_imgs.shape)\n",
    "print(\"train_labels.shape: \", train_labels.shape)\n",
    "\n",
    "plt.figure(num=BATCH_SIZE, figsize=(16, 16))\n",
    "for i, img in enumerate(train_imgs):\n",
    "    plt.subplot(1, BATCH_SIZE, i + 1)\n",
    "    plt.imshow(tf.make_ndarray(tf.make_tensor_proto(img)).astype('uint8'))\n",
    "\n",
    "labels = [\n",
    "    train_ds.class_names[np.where(label == 1)[0][0]] for label in train_labels\n",
    "]\n",
    "print(labels)"
   ]
  },
  {
   "cell_type": "code",
   "execution_count": 76,
   "metadata": {},
   "outputs": [],
   "source": [
    "class BasicBlock(Model):\n",
    "    def __init__(self, filters, kernel_size, padding='valid'):\n",
    "        super(BasicBlock, self).__init__(name='')\n",
    "\n",
    "        flt1, flt2 = filters\n",
    "\n",
    "        self.conv1 = Conv2D(\n",
    "            flt1,\n",
    "            1,\n",
    "            padding=padding,\n",
    "            kernel_regularizer=tf.keras.regularizers.l2(l=0.003))\n",
    "\n",
    "        self.dwcovn1 = SeparableConv2D(flt2, kernel_size, padding='same')\n",
    "\n",
    "        self.conv2 = Conv2D(\n",
    "            flt1,\n",
    "            1,\n",
    "            padding=padding,\n",
    "            kernel_regularizer=tf.keras.regularizers.l2(l=0.003))\n",
    "\n",
    "        self.bn1 = BatchNormalization()\n",
    "        self.bn2 = BatchNormalization()\n",
    "        self.bn3 = BatchNormalization()\n",
    "\n",
    "    def call(self, x):\n",
    "        inp = x\n",
    "        x = self.conv1(x)\n",
    "        x = self.bn1(x)\n",
    "        x = tf.nn.relu6(x)\n",
    "        #         print(x)\n",
    "\n",
    "        x = self.dwcovn1(x)\n",
    "        x = self.bn2(x)\n",
    "        x = tf.nn.relu6(x)\n",
    "        #         print(x)\n",
    "\n",
    "        x = self.conv2(x)\n",
    "        x = self.bn3(x)\n",
    "\n",
    "        x += inp\n",
    "\n",
    "        return x"
   ]
  },
  {
   "cell_type": "code",
   "execution_count": 77,
   "metadata": {},
   "outputs": [
    {
     "name": "stdout",
     "output_type": "stream",
     "text": [
      "Model: \"basic_block_18\"\n",
      "_________________________________________________________________\n",
      "Layer (type)                 Output Shape              Param #   \n",
      "=================================================================\n",
      "conv2d_42 (Conv2D)           multiple                  12        \n",
      "_________________________________________________________________\n",
      "separable_conv2d_18 (Separab multiple                  539       \n",
      "_________________________________________________________________\n",
      "conv2d_43 (Conv2D)           multiple                  387       \n",
      "_________________________________________________________________\n",
      "batch_normalization_66 (Batc multiple                  12        \n",
      "_________________________________________________________________\n",
      "batch_normalization_67 (Batc multiple                  512       \n",
      "_________________________________________________________________\n",
      "batch_normalization_68 (Batc multiple                  12        \n",
      "=================================================================\n",
      "Total params: 1,474\n",
      "Trainable params: 1,206\n",
      "Non-trainable params: 268\n",
      "_________________________________________________________________\n",
      "None\n"
     ]
    }
   ],
   "source": [
    "img_shape = (64, 32, 32, 3)\n",
    "blk = BasicBlock((3, 128), 3)\n",
    "blk.build(img_shape)\n",
    "print(blk.summary())"
   ]
  },
  {
   "cell_type": "code",
   "execution_count": 78,
   "metadata": {},
   "outputs": [],
   "source": [
    "class BokuNet(Model):\n",
    "    def __init__(self):\n",
    "        super(BokuNet, self).__init__(name='BokuNet')\n",
    "        self.conv1 = Conv2D(32, 3, strides=2)\n",
    "        self.block1 = BasicBlock((32, 64), 3)\n",
    "        self.block2 = BasicBlock((32, 64), 3)\n",
    "        \n",
    "        self.avg_pool = AveragePooling2D()\n",
    "\n",
    "        self.flatten = Flatten()\n",
    "        self.fc1 = Dense(512, activation='relu')\n",
    "        self.fc2 = Dense(256, activation='relu')\n",
    "        self.out_fc = Dense(120, activation='softmax')\n",
    "\n",
    "        self.bn1 = BatchNormalization()\n",
    "        self.bn2 = BatchNormalization()\n",
    "        \n",
    "#         self.drop1 = Dropout(0.5)\n",
    "        \n",
    "    def call(self, x):\n",
    "        x = x / 255  # normalization\n",
    "\n",
    "        y = self.conv1(x)\n",
    "        y = tf.nn.relu(y)\n",
    "        y = self.bn1(y)\n",
    "\n",
    "        y = self.block1(y)\n",
    "        y = tf.nn.relu(y)\n",
    "        y = self.bn2(y)\n",
    "        \n",
    "        y = self.block2(y)\n",
    "        y = tf.nn.relu(y)\n",
    "        \n",
    "        y = self.avg_pool(y)\n",
    "\n",
    "        y = self.flatten(y)\n",
    "        y = self.fc2(y)\n",
    "        y = self.fc1(y)\n",
    "        \n",
    "#         y = self.drop1(y)\n",
    "\n",
    "        y = self.out_fc(y)\n",
    "\n",
    "        return y"
   ]
  },
  {
   "cell_type": "code",
   "execution_count": 79,
   "metadata": {},
   "outputs": [
    {
     "name": "stdout",
     "output_type": "stream",
     "text": [
      "Model: \"BokuNet\"\n",
      "_________________________________________________________________\n",
      "Layer (type)                 Output Shape              Param #   \n",
      "=================================================================\n",
      "conv2d_44 (Conv2D)           multiple                  896       \n",
      "_________________________________________________________________\n",
      "basic_block_19 (BasicBlock)  multiple                  6048      \n",
      "_________________________________________________________________\n",
      "basic_block_20 (BasicBlock)  multiple                  6048      \n",
      "_________________________________________________________________\n",
      "average_pooling2d_6 (Average multiple                  0         \n",
      "_________________________________________________________________\n",
      "flatten_6 (Flatten)          multiple                  0         \n",
      "_________________________________________________________________\n",
      "dense_18 (Dense)             multiple                  131584    \n",
      "_________________________________________________________________\n",
      "dense_19 (Dense)             multiple                  401664    \n",
      "_________________________________________________________________\n",
      "dense_20 (Dense)             multiple                  61560     \n",
      "_________________________________________________________________\n",
      "batch_normalization_75 (Batc multiple                  128       \n",
      "_________________________________________________________________\n",
      "batch_normalization_76 (Batc multiple                  128       \n",
      "=================================================================\n",
      "Total params: 608,056\n",
      "Trainable params: 607,416\n",
      "Non-trainable params: 640\n",
      "_________________________________________________________________\n",
      "None\n"
     ]
    }
   ],
   "source": [
    "model = BokuNet()\n",
    "imgs, labels = next(iter(train_ds))\n",
    "model.build(imgs.shape)\n",
    "print(model.summary())"
   ]
  },
  {
   "cell_type": "code",
   "execution_count": 80,
   "metadata": {},
   "outputs": [
    {
     "name": "stdout",
     "output_type": "stream",
     "text": [
      "Epoch 1/10\n",
      "254/254 [==============================] - ETA: 0s - loss: 4.7511 - accuracy: 0.0417\n",
      "Epoch 00001: saving model to checkpoint\\cp.ckpt\n",
      "254/254 [==============================] - 94s 370ms/step - loss: 4.7511 - accuracy: 0.0417 - val_loss: 4.9837 - val_accuracy: 0.0146\n",
      "Epoch 2/10\n",
      "254/254 [==============================] - ETA: 0s - loss: 4.1901 - accuracy: 0.0881\n",
      "Epoch 00002: saving model to checkpoint\\cp.ckpt\n",
      "254/254 [==============================] - 96s 377ms/step - loss: 4.1901 - accuracy: 0.0881 - val_loss: 4.5823 - val_accuracy: 0.0482\n",
      "Epoch 3/10\n",
      "254/254 [==============================] - ETA: 0s - loss: 3.8652 - accuracy: 0.1277\n",
      "Epoch 00003: saving model to checkpoint\\cp.ckpt\n",
      "254/254 [==============================] - 94s 371ms/step - loss: 3.8652 - accuracy: 0.1277 - val_loss: 4.1404 - val_accuracy: 0.0947\n",
      "Epoch 4/10\n",
      "254/254 [==============================] - ETA: 0s - loss: 3.5883 - accuracy: 0.1690\n",
      "Epoch 00004: saving model to checkpoint\\cp.ckpt\n",
      "254/254 [==============================] - 95s 373ms/step - loss: 3.5883 - accuracy: 0.1690 - val_loss: 4.1616 - val_accuracy: 0.0889\n",
      "Epoch 5/10\n",
      "254/254 [==============================] - ETA: 0s - loss: 3.3039 - accuracy: 0.2155\n",
      "Epoch 00005: saving model to checkpoint\\cp.ckpt\n",
      "254/254 [==============================] - 94s 371ms/step - loss: 3.3039 - accuracy: 0.2155 - val_loss: 4.5677 - val_accuracy: 0.0814\n",
      "Epoch 6/10\n",
      "254/254 [==============================] - ETA: 0s - loss: 3.0136 - accuracy: 0.2679\n",
      "Epoch 00006: saving model to checkpoint\\cp.ckpt\n",
      "254/254 [==============================] - 94s 371ms/step - loss: 3.0136 - accuracy: 0.2679 - val_loss: 4.4122 - val_accuracy: 0.0990\n",
      "Epoch 7/10\n",
      "254/254 [==============================] - ETA: 0s - loss: 2.7064 - accuracy: 0.3308\n",
      "Epoch 00007: saving model to checkpoint\\cp.ckpt\n",
      "254/254 [==============================] - 94s 371ms/step - loss: 2.7064 - accuracy: 0.3308 - val_loss: 4.6471 - val_accuracy: 0.0928\n",
      "Epoch 8/10\n",
      "254/254 [==============================] - ETA: 0s - loss: 2.3968 - accuracy: 0.3954\n",
      "Epoch 00008: saving model to checkpoint\\cp.ckpt\n",
      "254/254 [==============================] - 93s 368ms/step - loss: 2.3968 - accuracy: 0.3954 - val_loss: 5.1713 - val_accuracy: 0.0978\n",
      "Epoch 9/10\n",
      "254/254 [==============================] - ETA: 0s - loss: 2.1002 - accuracy: 0.4587\n",
      "Epoch 00009: saving model to checkpoint\\cp.ckpt\n",
      "254/254 [==============================] - 93s 365ms/step - loss: 2.1002 - accuracy: 0.4587 - val_loss: 5.5459 - val_accuracy: 0.0941\n",
      "Epoch 10/10\n",
      "254/254 [==============================] - ETA: 0s - loss: 1.8273 - accuracy: 0.5230\n",
      "Epoch 00010: saving model to checkpoint\\cp.ckpt\n",
      "254/254 [==============================] - 93s 368ms/step - loss: 1.8273 - accuracy: 0.5230 - val_loss: 6.0124 - val_accuracy: 0.0923\n"
     ]
    }
   ],
   "source": [
    "EPOCHS = 10\n",
    "\n",
    "checkpoint_path = \"checkpoint/cp.ckpt\"\n",
    "\n",
    "if os.path.isfile(checkpoint_path):\n",
    "    model.load_weights(checkpoint_path)\n",
    "\n",
    "cp_callback = ModelCheckpoint(filepath=checkpoint_path,\n",
    "                              save_weights_only=True,\n",
    "                              verbose=1)\n",
    "\n",
    "optimizer = tf.keras.optimizers.Adam()\n",
    "\n",
    "model.compile(optimizer=optimizer,\n",
    "              loss='categorical_crossentropy',\n",
    "              metrics=['accuracy'])\n",
    "\n",
    "history = model.fit(train_ds,\n",
    "                    batch_size=BATCH_SIZE,\n",
    "                    steps_per_epoch=len(train_ds),\n",
    "                    validation_data=test_ds,\n",
    "                    validation_steps=len(test_ds),\n",
    "                    epochs=EPOCHS,\n",
    "                    callbacks=[cp_callback])"
   ]
  },
  {
   "cell_type": "code",
   "execution_count": 82,
   "metadata": {},
   "outputs": [
    {
     "data": {
      "image/png": "[encoded data removed]",
      "text/plain": [
       "<Figure size 576x576 with 2 Axes>"
      ]
     },
     "metadata": {
      "needs_background": "light"
     },
     "output_type": "display_data"
    }
   ],
   "source": [
    "acc = history.history['accuracy']\n",
    "val_acc = history.history['val_accuracy']\n",
    "\n",
    "loss = history.history['loss']\n",
    "val_loss = history.history['val_loss']\n",
    "\n",
    "epochs_range = range(EPOCHS)\n",
    "\n",
    "plt.figure(figsize=(8, 8))\n",
    "plt.subplot(1, 2, 1)\n",
    "plt.plot(epochs_range, acc, label='Training Accuracy')\n",
    "plt.plot(epochs_range, val_acc, label='Validation Accuracy')\n",
    "plt.legend(loc='lower right')\n",
    "plt.title('Training and Validation Accuracy')\n",
    "\n",
    "plt.subplot(1, 2, 2)\n",
    "plt.plot(epochs_range, loss, label='Training Loss')\n",
    "plt.plot(epochs_range, val_loss, label='Validation Loss')\n",
    "plt.legend(loc='upper right')\n",
    "plt.title('Training and Validation Loss')\n",
    "plt.show()"
   ]
  }
 ],
 "metadata": {
  "kernelspec": {
   "display_name": "Python 3",
   "language": "python",
   "name": "python3"
  },
  "language_info": {
   "codemirror_mode": {
    "name": "ipython",
    "version": 3
   },
   "file_extension": ".py",
   "mimetype": "text/x-python",
   "name": "python",
   "nbconvert_exporter": "python",
   "pygments_lexer": "ipython3",
   "version": "3.6.7"
  },
  "toc": {
   "base_numbering": 1,
   "nav_menu": {},
   "number_sections": true,
   "sideBar": true,
   "skip_h1_title": false,
   "title_cell": "Table of Contents",
   "title_sidebar": "Contents",
   "toc_cell": false,
   "toc_position": {},
   "toc_section_display": true,
   "toc_window_display": false
  }
 },
 "nbformat": 4,
 "nbformat_minor": 4
}
