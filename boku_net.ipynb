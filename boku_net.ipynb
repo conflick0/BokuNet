{
 "cells": [
  {
   "cell_type": "code",
   "execution_count": 177,
   "metadata": {},
   "outputs": [],
   "source": [
    "import os\n",
    "import numpy as np\n",
    "from PIL import Image\n",
    "import matplotlib.pyplot as plt\n",
    "import tensorflow as tf\n",
    "from tensorflow import keras\n",
    "from tensorflow.keras.models import Sequential\n",
    "from tensorflow.keras.layers import *\n",
    "from tensorflow.keras import Model\n",
    "from tensorflow.keras.preprocessing import image_dataset_from_directory  # pip install tf-nightly\n",
    "from tensorflow.keras.callbacks import ModelCheckpoint"
   ]
  },
  {
   "cell_type": "code",
   "execution_count": 178,
   "metadata": {},
   "outputs": [
    {
     "name": "stdout",
     "output_type": "stream",
     "text": [
      "Num GPUs Available:  1\n"
     ]
    }
   ],
   "source": [
    "print(\"Num GPUs Available: \",\n",
    "      len(tf.config.experimental.list_physical_devices('GPU')))"
   ]
  },
  {
   "cell_type": "code",
   "execution_count": 179,
   "metadata": {},
   "outputs": [],
   "source": [
    "DATASET_DIR = \"./dataset/sdd\"\n",
    "\n",
    "TRAIN_DATASET_DIR = DATASET_DIR + '/train'\n",
    "\n",
    "TEST_DATASET_DIR = DATASET_DIR + '/test'\n",
    "\n",
    "IMG_SIZE = (128, 128)\n",
    "\n",
    "BATCH_SIZE = 128"
   ]
  },
  {
   "cell_type": "code",
   "execution_count": 180,
   "metadata": {},
   "outputs": [
    {
     "name": "stdout",
     "output_type": "stream",
     "text": [
      "Found 16229 files belonging to 120 classes.\n",
      "Found 4111 files belonging to 120 classes.\n"
     ]
    }
   ],
   "source": [
    "# build train dataset\n",
    "train_ds = image_dataset_from_directory(directory=TRAIN_DATASET_DIR,\n",
    "                                        labels='inferred',\n",
    "                                        label_mode='categorical',\n",
    "                                        shuffle=True,\n",
    "                                        batch_size=BATCH_SIZE,\n",
    "                                        image_size=IMG_SIZE)\n",
    "\n",
    "#build test dataset\n",
    "test_ds = image_dataset_from_directory(directory=TEST_DATASET_DIR,\n",
    "                                       labels='inferred',\n",
    "                                       label_mode='categorical',\n",
    "                                       shuffle=False,\n",
    "                                       batch_size=BATCH_SIZE,\n",
    "                                       image_size=IMG_SIZE)"
   ]
  },
  {
   "cell_type": "code",
   "execution_count": 181,
   "metadata": {},
   "outputs": [
    {
     "name": "stdout",
     "output_type": "stream",
     "text": [
      "train_imgs.shape:  (128, 128, 128, 3)\n",
      "train_labels.shape:  (128, 120)\n",
      "['n02093859-Kerry_blue_terrier', 'n02105855-Shetland_sheepdog', 'n02110958-pug', 'n02111129-Leonberg', 'n02102177-Welsh_springer_spaniel', 'n02086646-Blenheim_spaniel', 'n02108422-bull_mastiff', 'n02108000-EntleBucher', 'n02099601-golden_retriever', 'n02095314-wire-haired_fox_terrier', 'n02086240-Shih-Tzu', 'n02102973-Irish_water_spaniel', 'n02109047-Great_Dane', 'n02096177-cairn', 'n02099849-Chesapeake_Bay_retriever', 'n02096177-cairn', 'n02100583-vizsla', 'n02102318-cocker_spaniel', 'n02090721-Irish_wolfhound', 'n02115641-dingo', 'n02097130-giant_schnauzer', 'n02097130-giant_schnauzer', 'n02109525-Saint_Bernard', 'n02107683-Bernese_mountain_dog', 'n02099267-flat-coated_retriever', 'n02096051-Airedale', 'n02095314-wire-haired_fox_terrier', 'n02112350-keeshond', 'n02105162-malinois', 'n02105855-Shetland_sheepdog', 'n02088364-beagle', 'n02090379-redbone', 'n02106030-collie', 'n02095570-Lakeland_terrier', 'n02089867-Walker_hound', 'n02092339-Weimaraner', 'n02104365-schipperke', 'n02089867-Walker_hound', 'n02109047-Great_Dane', 'n02108000-EntleBucher', 'n02099601-golden_retriever', 'n02089078-black-and-tan_coonhound', 'n02108089-boxer', 'n02116738-African_hunting_dog', 'n02092002-Scottish_deerhound', 'n02108915-French_bulldog', 'n02093428-American_Staffordshire_terrier', 'n02089973-English_foxhound', 'n02108089-boxer', 'n02088466-bloodhound', 'n02098413-Lhasa', 'n02107683-Bernese_mountain_dog', 'n02097658-silky_terrier', 'n02113023-Pembroke', 'n02093428-American_Staffordshire_terrier', 'n02105412-kelpie', 'n02092002-Scottish_deerhound', 'n02102318-cocker_spaniel', 'n02111129-Leonberg', 'n02085936-Maltese_dog', 'n02111129-Leonberg', 'n02104365-schipperke', 'n02108422-bull_mastiff', 'n02099712-Labrador_retriever', 'n02091134-whippet', 'n02094433-Yorkshire_terrier', 'n02097130-giant_schnauzer', 'n02096294-Australian_terrier', 'n02096177-cairn', 'n02091831-Saluki', 'n02093859-Kerry_blue_terrier', 'n02100236-German_short-haired_pointer', 'n02097130-giant_schnauzer', 'n02111500-Great_Pyrenees', 'n02107574-Greater_Swiss_Mountain_dog', 'n02098286-West_Highland_white_terrier', 'n02106030-collie', 'n02098286-West_Highland_white_terrier', 'n02085782-Japanese_spaniel', 'n02086646-Blenheim_spaniel', 'n02093256-Staffordshire_bullterrier', 'n02095570-Lakeland_terrier', 'n02112018-Pomeranian', 'n02094433-Yorkshire_terrier', 'n02093647-Bedlington_terrier', 'n02107574-Greater_Swiss_Mountain_dog', 'n02086240-Shih-Tzu', 'n02093859-Kerry_blue_terrier', 'n02111277-Newfoundland', 'n02102318-cocker_spaniel', 'n02101006-Gordon_setter', 'n02109047-Great_Dane', 'n02105056-groenendael', 'n02111500-Great_Pyrenees', 'n02091244-Ibizan_hound', 'n02097047-miniature_schnauzer', 'n02111889-Samoyed', 'n02102040-English_springer', 'n02110185-Siberian_husky', 'n02095889-Sealyham_terrier', 'n02102177-Welsh_springer_spaniel', 'n02111277-Newfoundland', 'n02102040-English_springer', 'n02085936-Maltese_dog', 'n02093859-Kerry_blue_terrier', 'n02096585-Boston_bull', 'n02105641-Old_English_sheepdog', 'n02110958-pug', 'n02095570-Lakeland_terrier', 'n02116738-African_hunting_dog', 'n02110185-Siberian_husky', 'n02100735-English_setter', 'n02096437-Dandie_Dinmont', 'n02088238-basset', 'n02088466-bloodhound', 'n02113023-Pembroke', 'n02088466-bloodhound', 'n02105251-briard', 'n02099712-Labrador_retriever', 'n02107683-Bernese_mountain_dog', 'n02092002-Scottish_deerhound', 'n02088632-bluetick', 'n02088238-basset', 'n02089078-black-and-tan_coonhound', 'n02110063-malamute', 'n02098105-soft-coated_wheaten_terrier', 'n02112706-Brabancon_griffon', 'n02086240-Shih-Tzu']\n"
     ]
    },
    {
     "data": {
      "image/png": "[encoded data removed]",
      "text/plain": [
       "<Figure size 1152x1152 with 128 Axes>"
      ]
     },
     "metadata": {
      "needs_background": "light"
     },
     "output_type": "display_data"
    }
   ],
   "source": [
    "# show train batch\n",
    "train_imgs, train_labels = next(iter(train_ds))\n",
    "\n",
    "print(\"train_imgs.shape: \", train_imgs.shape)\n",
    "print(\"train_labels.shape: \", train_labels.shape)\n",
    "\n",
    "plt.figure(num=BATCH_SIZE, figsize=(16, 16))\n",
    "for i, img in enumerate(train_imgs):\n",
    "    plt.subplot(1, BATCH_SIZE, i + 1)\n",
    "    plt.imshow(tf.make_ndarray(tf.make_tensor_proto(img)).astype('uint8'))\n",
    "\n",
    "labels = [\n",
    "    train_ds.class_names[np.where(label == 1)[0][0]] for label in train_labels\n",
    "]\n",
    "print(labels)"
   ]
  },
  {
   "cell_type": "code",
   "execution_count": 182,
   "metadata": {},
   "outputs": [
    {
     "name": "stdout",
     "output_type": "stream",
     "text": [
      "\n",
      "traing dataset size: 127\n",
      "test dataset size: 33\n",
      "\n",
      "class names:\n",
      " ['n02085620-Chihuahua', 'n02085782-Japanese_spaniel', 'n02085936-Maltese_dog', 'n02086079-Pekinese', 'n02086240-Shih-Tzu', 'n02086646-Blenheim_spaniel', 'n02086910-papillon', 'n02087046-toy_terrier', 'n02087394-Rhodesian_ridgeback', 'n02088094-Afghan_hound', 'n02088238-basset', 'n02088364-beagle', 'n02088466-bloodhound', 'n02088632-bluetick', 'n02089078-black-and-tan_coonhound', 'n02089867-Walker_hound', 'n02089973-English_foxhound', 'n02090379-redbone', 'n02090622-borzoi', 'n02090721-Irish_wolfhound', 'n02091032-Italian_greyhound', 'n02091134-whippet', 'n02091244-Ibizan_hound', 'n02091467-Norwegian_elkhound', 'n02091635-otterhound', 'n02091831-Saluki', 'n02092002-Scottish_deerhound', 'n02092339-Weimaraner', 'n02093256-Staffordshire_bullterrier', 'n02093428-American_Staffordshire_terrier', 'n02093647-Bedlington_terrier', 'n02093754-Border_terrier', 'n02093859-Kerry_blue_terrier', 'n02093991-Irish_terrier', 'n02094114-Norfolk_terrier', 'n02094258-Norwich_terrier', 'n02094433-Yorkshire_terrier', 'n02095314-wire-haired_fox_terrier', 'n02095570-Lakeland_terrier', 'n02095889-Sealyham_terrier', 'n02096051-Airedale', 'n02096177-cairn', 'n02096294-Australian_terrier', 'n02096437-Dandie_Dinmont', 'n02096585-Boston_bull', 'n02097047-miniature_schnauzer', 'n02097130-giant_schnauzer', 'n02097209-standard_schnauzer', 'n02097298-Scotch_terrier', 'n02097474-Tibetan_terrier', 'n02097658-silky_terrier', 'n02098105-soft-coated_wheaten_terrier', 'n02098286-West_Highland_white_terrier', 'n02098413-Lhasa', 'n02099267-flat-coated_retriever', 'n02099429-curly-coated_retriever', 'n02099601-golden_retriever', 'n02099712-Labrador_retriever', 'n02099849-Chesapeake_Bay_retriever', 'n02100236-German_short-haired_pointer', 'n02100583-vizsla', 'n02100735-English_setter', 'n02100877-Irish_setter', 'n02101006-Gordon_setter', 'n02101388-Brittany_spaniel', 'n02101556-clumber', 'n02102040-English_springer', 'n02102177-Welsh_springer_spaniel', 'n02102318-cocker_spaniel', 'n02102480-Sussex_spaniel', 'n02102973-Irish_water_spaniel', 'n02104029-kuvasz', 'n02104365-schipperke', 'n02105056-groenendael', 'n02105162-malinois', 'n02105251-briard', 'n02105412-kelpie', 'n02105505-komondor', 'n02105641-Old_English_sheepdog', 'n02105855-Shetland_sheepdog', 'n02106030-collie', 'n02106166-Border_collie', 'n02106382-Bouvier_des_Flandres', 'n02106550-Rottweiler', 'n02106662-German_shepherd', 'n02107142-Doberman', 'n02107312-miniature_pinscher', 'n02107574-Greater_Swiss_Mountain_dog', 'n02107683-Bernese_mountain_dog', 'n02107908-Appenzeller', 'n02108000-EntleBucher', 'n02108089-boxer', 'n02108422-bull_mastiff', 'n02108551-Tibetan_mastiff', 'n02108915-French_bulldog', 'n02109047-Great_Dane', 'n02109525-Saint_Bernard', 'n02109961-Eskimo_dog', 'n02110063-malamute', 'n02110185-Siberian_husky', 'n02110627-affenpinscher', 'n02110806-basenji', 'n02110958-pug', 'n02111129-Leonberg', 'n02111277-Newfoundland', 'n02111500-Great_Pyrenees', 'n02111889-Samoyed', 'n02112018-Pomeranian', 'n02112137-chow', 'n02112350-keeshond', 'n02112706-Brabancon_griffon', 'n02113023-Pembroke', 'n02113186-Cardigan', 'n02113624-toy_poodle', 'n02113712-miniature_poodle', 'n02113799-standard_poodle', 'n02113978-Mexican_hairless', 'n02115641-dingo', 'n02115913-dhole', 'n02116738-African_hunting_dog']\n"
     ]
    }
   ],
   "source": [
    "# show dataset info\n",
    "print(\"\\ntraing dataset size:\", len(train_ds))\n",
    "print(\"test dataset size:\", len(test_ds))\n",
    "print(\"\\nclass names:\\n\", train_ds.class_names)"
   ]
  },
  {
   "cell_type": "code",
   "execution_count": 183,
   "metadata": {},
   "outputs": [],
   "source": [
    "class SE_Block(Model):\n",
    "    def __init__(self, filters):\n",
    "        super(SE_Block, self).__init__(name='')\n",
    "\n",
    "        r = 8\n",
    "\n",
    "        self.global_avg_pool = GlobalAveragePooling2D()\n",
    "\n",
    "        self.fc1 = Dense(filters / r, activation='relu')\n",
    "\n",
    "        self.fc2 = Dense(filters, activation='sigmoid')\n",
    "\n",
    "    def call(self, x):\n",
    "        c = x.shape[-1]\n",
    "        inp = x\n",
    "        x = self.global_avg_pool(x)\n",
    "        x = self.fc1(x)\n",
    "        x = self.fc2(x)\n",
    "        x = tf.reshape(x, [-1, 1, 1, c])\n",
    "        x *= inp\n",
    "\n",
    "        return x"
   ]
  },
  {
   "cell_type": "code",
   "execution_count": 184,
   "metadata": {},
   "outputs": [],
   "source": [
    "class ResBasicBlock(Model):\n",
    "    def __init__(self, filters, kernel_size, padding='same', strides=1):\n",
    "        super(ResBasicBlock, self).__init__(name='')\n",
    "\n",
    "        flt1, flt2, flt3 = filters\n",
    "\n",
    "        self.conv1 = Conv2D(flt1, 1, padding=padding, strides=strides)\n",
    "        #             kernel_regularizer=tf.keras.regularizers.l2(l=0.003))\n",
    "\n",
    "        self.covn2 = Conv2D(flt2, kernel_size, padding=padding)\n",
    "\n",
    "        self.conv3 = Conv2D(flt3, 1, padding=padding)\n",
    "        #             kernel_regularizer=tf.keras.regularizers.l2(l=0.003))\n",
    "\n",
    "        self.reshape_conv = Conv2D(flt3, 1, padding=padding, strides=strides)\n",
    "\n",
    "        self.bn1 = BatchNormalization()\n",
    "        self.bn2 = BatchNormalization()\n",
    "        self.bn3 = BatchNormalization()\n",
    "        self.bn4 = BatchNormalization()\n",
    "\n",
    "    def call(self, x):\n",
    "        inp = x\n",
    "\n",
    "        x = self.conv1(x)\n",
    "        x = self.bn1(x)\n",
    "        x = tf.nn.relu(x)\n",
    "\n",
    "        x = self.covn2(x)\n",
    "        x = self.bn2(x)\n",
    "        x = tf.nn.relu(x)\n",
    "\n",
    "        x = self.conv3(x)\n",
    "        x = self.bn3(x)\n",
    "\n",
    "        inp = self.reshape_conv(inp)\n",
    "        inp = self.bn4(inp)\n",
    "        x += inp\n",
    "\n",
    "        x = tf.nn.relu(x)\n",
    "\n",
    "        return x"
   ]
  },
  {
   "cell_type": "code",
   "execution_count": 185,
   "metadata": {},
   "outputs": [],
   "source": [
    "class ResBlockA(Model):\n",
    "    def __init__(self):\n",
    "        super(ResBlockA, self).__init__(name='')\n",
    "\n",
    "        filters = (32, 32, 128)\n",
    "\n",
    "        self.res_blocks = Sequential([])\n",
    "\n",
    "        for _ in range(3):\n",
    "            self.res_blocks.add(ResBasicBlock(filters, kernel_size=3))\n",
    "\n",
    "    def call(self, x):\n",
    "        x = self.res_blocks(x)\n",
    "\n",
    "        return x"
   ]
  },
  {
   "cell_type": "code",
   "execution_count": 186,
   "metadata": {},
   "outputs": [],
   "source": [
    "class ResBlockB(Model):\n",
    "    def __init__(self):\n",
    "        super(ResBlockB, self).__init__(name='')\n",
    "\n",
    "        filters = (64, 64, 256)\n",
    "\n",
    "        self.res_blocks = Sequential(\n",
    "            [ResBasicBlock(filters, kernel_size=3, strides=2)])\n",
    "\n",
    "        for _ in range(3):\n",
    "            self.res_blocks.add(ResBasicBlock(filters, kernel_size=3))\n",
    "\n",
    "    def call(self, x):\n",
    "        x = self.res_blocks(x)\n",
    "\n",
    "        return x"
   ]
  },
  {
   "cell_type": "code",
   "execution_count": 187,
   "metadata": {},
   "outputs": [],
   "source": [
    "class ResBlockC(Model):\n",
    "    def __init__(self):\n",
    "        super(ResBlockC, self).__init__(name='')\n",
    "\n",
    "        filters = (128, 128, 512)\n",
    "\n",
    "        self.res_blocks = Sequential(\n",
    "            [ResBasicBlock(filters, kernel_size=3, strides=2)])\n",
    "\n",
    "        for _ in range(5):\n",
    "            self.res_blocks.add(ResBasicBlock(filters, kernel_size=3))\n",
    "\n",
    "    def call(self, x):\n",
    "        x = self.res_blocks(x)\n",
    "\n",
    "        return x"
   ]
  },
  {
   "cell_type": "code",
   "execution_count": 188,
   "metadata": {},
   "outputs": [],
   "source": [
    "class ResBlockD(Model):\n",
    "    def __init__(self):\n",
    "        super(ResBlockD, self).__init__(name='')\n",
    "\n",
    "        filters = (512, 512, 1024)\n",
    "\n",
    "        self.res_blocks = Sequential(\n",
    "            [ResBasicBlock(filters, kernel_size=3, strides=2)])\n",
    "\n",
    "        for _ in range(2):\n",
    "            self.res_blocks.add(ResBasicBlock(filters, kernel_size=3))\n",
    "\n",
    "    def call(self, x):\n",
    "        x = self.res_blocks(x)\n",
    "\n",
    "        return x"
   ]
  },
  {
   "cell_type": "code",
   "execution_count": 189,
   "metadata": {},
   "outputs": [],
   "source": [
    "class BokuNet(Model):\n",
    "    def __init__(self):\n",
    "        super(BokuNet, self).__init__(name='BokuNet')\n",
    "        self.conv1 = Conv2D(32, 7, strides=2)\n",
    "        self.max_pool = MaxPooling2D((3, 3), strides=2)\n",
    "\n",
    "        self.res_bloack_a = ResBlockA()\n",
    "        self.res_block_b = ResBlockB()\n",
    "        #         self.res_block_c = ResBlockC()\n",
    "        #         self.res_block_d = ResBlockD()\n",
    "\n",
    "        self.avg_pool = AveragePooling2D()\n",
    "        self.flatten = Flatten()\n",
    "\n",
    "        self.out_fc = Dense(120, activation='softmax')\n",
    "\n",
    "\n",
    "#         self.drop1 = Dropout(0.5)\n",
    "\n",
    "    def call(self, x):\n",
    "        x = x / 255  # normalization\n",
    "\n",
    "        x = self.conv1(x)\n",
    "        #         print(x.shape)\n",
    "        x = self.max_pool(x)\n",
    "        #         print(x.shape)\n",
    "\n",
    "        x = self.res_bloack_a(x)\n",
    "        #         print('a', x.shape)\n",
    "\n",
    "        x = self.res_block_b(x)\n",
    "        #         print('b', x.shape)\n",
    "\n",
    "        #         x = self.res_block_c(x)\n",
    "        #         print('c', x.shape)\n",
    "\n",
    "        #         x = self.res_block_d(x)\n",
    "        #         print('d', x.shape)\n",
    "\n",
    "        x = self.avg_pool(x)\n",
    "        #         print(x.shape)\n",
    "\n",
    "        x = self.flatten(x)\n",
    "\n",
    "        x = self.out_fc(x)\n",
    "\n",
    "        return x"
   ]
  },
  {
   "cell_type": "code",
   "execution_count": 190,
   "metadata": {},
   "outputs": [],
   "source": [
    "# model = BokuNet()\n",
    "# # model = SE_Block(64)\n",
    "# imgs_shape = (128, 32, 32, 3)\n",
    "# model.build(imgs_shape)\n",
    "# print(model.summary())"
   ]
  },
  {
   "cell_type": "code",
   "execution_count": 209,
   "metadata": {},
   "outputs": [],
   "source": [
    "class KimiNet(Model):\n",
    "    def __init__(self):\n",
    "        super(KimiNet, self).__init__(name='KimiNet')\n",
    "        self.conv1 = Conv2D(32, 3, activation='relu')\n",
    "        self.max_pool1 = MaxPooling2D((2, 2))\n",
    "        #         self.max_pool2 = MaxPooling2D((2, 2))\n",
    "\n",
    "        self.res_basic_block1 = ResBasicBlock(filters=(32, 32, 128),\n",
    "                                              kernel_size=3, strides=2)\n",
    "\n",
    "        self.se_block1 = SE_Block(128)\n",
    "        self.bn1 = BatchNormalization()\n",
    "\n",
    "        self.res_basic_block2 = ResBasicBlock(filters=(64, 64, 256),\n",
    "                                              kernel_size=3, strides=2)\n",
    "\n",
    "        self.se_block2 = SE_Block(256)\n",
    "        self.bn2 = BatchNormalization()\n",
    "        \n",
    "        self.res_basic_block3 = ResBasicBlock(filters=(32, 32, 128),\n",
    "                                              kernel_size=3, strides=2)\n",
    "        \n",
    "\n",
    "        self.avg_pool = AveragePooling2D((2, 2))\n",
    "        self.flatten = Flatten()\n",
    "        self.out_fc = Dense(120, activation='softmax')\n",
    "\n",
    "        self.drop1 = Dropout(0.5)\n",
    "\n",
    "    def call(self, x):\n",
    "        x = x / 255.0  # normalization\n",
    "\n",
    "        x = self.conv1(x)\n",
    "        x = self.max_pool1(x)\n",
    "\n",
    "        x = self.res_basic_block1(x)\n",
    "        x = self.se_block1(x)\n",
    "        x = self.bn1(x)\n",
    "        x = tf.nn.relu(x)\n",
    "\n",
    "        x = self.res_basic_block2(x)\n",
    "        x = self.se_block2(x)\n",
    "        x = self.bn2(x)\n",
    "        x = tf.nn.relu(x)\n",
    "        \n",
    "        x = self.res_basic_block3(x)\n",
    "\n",
    "        x = self.avg_pool(x)\n",
    "        x = self.flatten(x)\n",
    "\n",
    "        x = self.drop1(x)\n",
    "\n",
    "        x = self.out_fc(x)\n",
    "\n",
    "        return x"
   ]
  },
  {
   "cell_type": "code",
   "execution_count": 210,
   "metadata": {},
   "outputs": [
    {
     "name": "stdout",
     "output_type": "stream",
     "text": [
      "Model: \"KimiNet\"\n",
      "_________________________________________________________________\n",
      "Layer (type)                 Output Shape              Param #   \n",
      "=================================================================\n",
      "conv2d_347 (Conv2D)          multiple                  896       \n",
      "_________________________________________________________________\n",
      "max_pooling2d_43 (MaxPooling multiple                  0         \n",
      "_________________________________________________________________\n",
      "res_basic_block_77 (ResBasic multiple                  20032     \n",
      "_________________________________________________________________\n",
      "se__block_41 (SE_Block)      multiple                  4240      \n",
      "_________________________________________________________________\n",
      "batch_normalization_333 (Bat multiple                  512       \n",
      "_________________________________________________________________\n",
      "res_basic_block_78 (ResBasic multiple                  97408     \n",
      "_________________________________________________________________\n",
      "se__block_42 (SE_Block)      multiple                  16672     \n",
      "_________________________________________________________________\n",
      "batch_normalization_338 (Bat multiple                  1024      \n",
      "_________________________________________________________________\n",
      "res_basic_block_79 (ResBasic multiple                  55872     \n",
      "_________________________________________________________________\n",
      "average_pooling2d_32 (Averag multiple                  0         \n",
      "_________________________________________________________________\n",
      "flatten_40 (Flatten)         multiple                  0         \n",
      "_________________________________________________________________\n",
      "dense_132 (Dense)            multiple                  245880    \n",
      "_________________________________________________________________\n",
      "dropout_18 (Dropout)         multiple                  0         \n",
      "=================================================================\n",
      "Total params: 442,536\n",
      "Trainable params: 439,208\n",
      "Non-trainable params: 3,328\n",
      "_________________________________________________________________\n",
      "None\n"
     ]
    }
   ],
   "source": [
    "model = KimiNet()\n",
    "imgs, labels= next(iter(train_ds))\n",
    "model.build(imgs.shape)\n",
    "print(model.summary())"
   ]
  },
  {
   "cell_type": "code",
   "execution_count": 216,
   "metadata": {},
   "outputs": [
    {
     "name": "stdout",
     "output_type": "stream",
     "text": [
      "Epoch 1/3\n",
      "127/127 [==============================] - ETA: 0s - loss: 2.4060 - accuracy: 0.3990\n",
      "Epoch 00001: val_loss improved from inf to 3.84646, saving model to checkpoint/kimi_sdd\\cp.ckpt\n",
      "127/127 [==============================] - 62s 485ms/step - loss: 2.4060 - accuracy: 0.3990 - val_loss: 3.8465 - val_accuracy: 0.1367\n",
      "Epoch 2/3\n",
      "127/127 [==============================] - ETA: 0s - loss: 2.3969 - accuracy: 0.4016\n",
      "Epoch 00002: val_loss did not improve from 3.84646\n",
      "127/127 [==============================] - 61s 480ms/step - loss: 2.3969 - accuracy: 0.4016 - val_loss: 3.8467 - val_accuracy: 0.1365\n",
      "Epoch 3/3\n",
      "127/127 [==============================] - ETA: 0s - loss: 2.4148 - accuracy: 0.4008\n",
      "Epoch 00003: val_loss did not improve from 3.84646\n",
      "127/127 [==============================] - 61s 482ms/step - loss: 2.4148 - accuracy: 0.4008 - val_loss: 3.8467 - val_accuracy: 0.1369\n"
     ]
    }
   ],
   "source": [
    "EPOCHS = 3\n",
    "\n",
    "checkpoint_path = \"checkpoint/kimi_sdd/cp.ckpt\"\n",
    "\n",
    "if os.path.isfile(checkpoint_path):\n",
    "    model.load_weights(checkpoint_path)\n",
    "\n",
    "cp_callback = ModelCheckpoint(filepath=checkpoint_path,\n",
    "                              save_weights_only=True,\n",
    "                              save_best_only=True,\n",
    "                              mode='min',\n",
    "                              verbose=1)\n",
    "\n",
    "optimizer = tf.keras.optimizers.Adam(learning_rate=0.000001)\n",
    "\n",
    "model.compile(optimizer=optimizer,\n",
    "              loss='categorical_crossentropy',\n",
    "              metrics=['accuracy'])\n",
    "\n",
    "history = model.fit(train_ds,\n",
    "                    batch_size=BATCH_SIZE,\n",
    "                    steps_per_epoch=len(train_ds),\n",
    "                    validation_data=test_ds,\n",
    "                    validation_steps=len(test_ds),\n",
    "                    epochs=EPOCHS,\n",
    "                    callbacks=[cp_callback])"
   ]
  },
  {
   "cell_type": "code",
   "execution_count": 217,
   "metadata": {},
   "outputs": [
    {
     "data": {
      "image/png": "[encoded data removed]",
      "text/plain": [
       "<Figure size 576x576 with 2 Axes>"
      ]
     },
     "metadata": {
      "needs_background": "light"
     },
     "output_type": "display_data"
    }
   ],
   "source": [
    "acc = history.history['accuracy']\n",
    "val_acc = history.history['val_accuracy']\n",
    "\n",
    "loss = history.history['loss']\n",
    "val_loss = history.history['val_loss']\n",
    "\n",
    "epochs_range = range(EPOCHS)\n",
    "\n",
    "plt.figure(figsize=(8, 8))\n",
    "plt.subplot(1, 2, 1)\n",
    "plt.plot(epochs_range, acc, label='Training Accuracy')\n",
    "plt.plot(epochs_range, val_acc, label='Validation Accuracy')\n",
    "plt.legend(loc='lower right')\n",
    "plt.title('Training and Validation Accuracy')\n",
    "\n",
    "plt.subplot(1, 2, 2)\n",
    "plt.plot(epochs_range, loss, label='Training Loss')\n",
    "plt.plot(epochs_range, val_loss, label='Validation Loss')\n",
    "plt.legend(loc='upper right')\n",
    "plt.title('Training and Validation Loss')\n",
    "plt.show()"
   ]
  }
 ],
 "metadata": {
  "kernelspec": {
   "display_name": "Python 3",
   "language": "python",
   "name": "python3"
  },
  "language_info": {
   "codemirror_mode": {
    "name": "ipython",
    "version": 3
   },
   "file_extension": ".py",
   "mimetype": "text/x-python",
   "name": "python",
   "nbconvert_exporter": "python",
   "pygments_lexer": "ipython3",
   "version": "3.7.7"
  },
  "toc": {
   "base_numbering": 1,
   "nav_menu": {},
   "number_sections": true,
   "sideBar": true,
   "skip_h1_title": false,
   "title_cell": "Table of Contents",
   "title_sidebar": "Contents",
   "toc_cell": false,
   "toc_position": {},
   "toc_section_display": true,
   "toc_window_display": false
  }
 },
 "nbformat": 4,
 "nbformat_minor": 1
}
